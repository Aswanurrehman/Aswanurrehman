{
  "nbformat": 4,
  "nbformat_minor": 0,
  "metadata": {
    "colab": {
      "name": "Python-Basics.ipynb",
      "provenance": [],
      "collapsed_sections": [],
      "authorship_tag": "ABX9TyO+EISuhYtHvuw9hT61iNCB",
      "include_colab_link": true
    },
    "kernelspec": {
      "name": "python3",
      "display_name": "Python 3"
    },
    "language_info": {
      "name": "python"
    }
  },
  "cells": [
    {
      "cell_type": "markdown",
      "metadata": {
        "id": "view-in-github",
        "colab_type": "text"
      },
      "source": [
        "<a href=\"https://colab.research.google.com/github/Aswanurrehman/Data-Science/blob/main/Python/Python_Basics.ipynb\" target=\"_parent\"><img src=\"https://colab.research.google.com/assets/colab-badge.svg\" alt=\"Open In Colab\"/></a>"
      ]
    },
    {
      "cell_type": "code",
      "execution_count": null,
      "metadata": {
        "colab": {
          "base_uri": "https://localhost:8080/"
        },
        "id": "bX4jBvD1usBU",
        "outputId": "733802cb-b22e-49a0-f917-b2310c0cd7c7"
      },
      "outputs": [
        {
          "output_type": "stream",
          "name": "stdout",
          "text": [
            "Hello Aswan\n"
          ]
        }
      ],
      "source": [
        "print('Hello Aswan')"
      ]
    },
    {
      "cell_type": "code",
      "source": [
        "num = 10\n",
        "print(num)"
      ],
      "metadata": {
        "id": "_Lwno6CVvGBi",
        "colab": {
          "base_uri": "https://localhost:8080/"
        },
        "outputId": "ab1b146b-4598-445a-baf7-53d5e4b26c13"
      },
      "execution_count": null,
      "outputs": [
        {
          "output_type": "stream",
          "name": "stdout",
          "text": [
            "10\n"
          ]
        }
      ]
    },
    {
      "cell_type": "code",
      "source": [
        "num1 = 10.2\n",
        "print(type(num1))"
      ],
      "metadata": {
        "id": "MieJsEXHvts7",
        "colab": {
          "base_uri": "https://localhost:8080/"
        },
        "outputId": "64da70d3-3d5f-45b5-df50-e7bda715e108"
      },
      "execution_count": null,
      "outputs": [
        {
          "output_type": "stream",
          "name": "stdout",
          "text": [
            "<class 'float'>\n"
          ]
        }
      ]
    },
    {
      "cell_type": "code",
      "source": [
        "Name = \"Pepcoding\"\n",
        "print(Name)\n",
        "print(type(Name))"
      ],
      "metadata": {
        "colab": {
          "base_uri": "https://localhost:8080/"
        },
        "id": "zyszuuLZ5FNi",
        "outputId": "cccff26a-767c-41fa-ada1-d8c1e1a714ae"
      },
      "execution_count": null,
      "outputs": [
        {
          "output_type": "stream",
          "name": "stdout",
          "text": [
            "Pepcoding\n",
            "<class 'str'>\n"
          ]
        }
      ]
    },
    {
      "cell_type": "code",
      "source": [
        "a,b,c = 10,15,20\n",
        "print(b)"
      ],
      "metadata": {
        "colab": {
          "base_uri": "https://localhost:8080/"
        },
        "id": "JqOeoZij5F1U",
        "outputId": "8de5ae05-92a6-474e-81cf-18149be4af8b"
      },
      "execution_count": null,
      "outputs": [
        {
          "output_type": "stream",
          "name": "stdout",
          "text": [
            "15\n"
          ]
        }
      ]
    },
    {
      "cell_type": "code",
      "source": [
        "import keyword\n",
        "print(keyword.kwlist)"
      ],
      "metadata": {
        "colab": {
          "base_uri": "https://localhost:8080/"
        },
        "id": "JBZ6PZLi6S7f",
        "outputId": "e1c810be-5c7b-4af5-b4dd-4f43ef9a935f"
      },
      "execution_count": null,
      "outputs": [
        {
          "output_type": "stream",
          "name": "stdout",
          "text": [
            "['False', 'None', 'True', 'and', 'as', 'assert', 'async', 'await', 'break', 'class', 'continue', 'def', 'del', 'elif', 'else', 'except', 'finally', 'for', 'from', 'global', 'if', 'import', 'in', 'is', 'lambda', 'nonlocal', 'not', 'or', 'pass', 'raise', 'return', 'try', 'while', 'with', 'yield']\n"
          ]
        }
      ]
    },
    {
      "cell_type": "markdown",
      "source": [
        "##Number"
      ],
      "metadata": {
        "id": "zWip91_07C2T"
      }
    },
    {
      "cell_type": "code",
      "source": [
        "Num2 = (62-5*6)/4\n",
        "print(Num2)\n",
        "print(type(Num2))"
      ],
      "metadata": {
        "id": "9jayvlNi7JjB",
        "colab": {
          "base_uri": "https://localhost:8080/"
        },
        "outputId": "a9742fd3-2239-4527-a052-9d6fcfbe905e"
      },
      "execution_count": null,
      "outputs": [
        {
          "output_type": "stream",
          "name": "stdout",
          "text": [
            "8.0\n",
            "<class 'float'>\n"
          ]
        }
      ]
    },
    {
      "cell_type": "code",
      "source": [
        "Num3 = 17//3\n",
        "Num4 = 17%3\n",
        "print(Num3)\n",
        "print(Num4)"
      ],
      "metadata": {
        "colab": {
          "base_uri": "https://localhost:8080/"
        },
        "id": "9oc2klDM6rIc",
        "outputId": "af568fa4-188f-4cbe-fe9e-dc2c6e6d139f"
      },
      "execution_count": null,
      "outputs": [
        {
          "output_type": "stream",
          "name": "stdout",
          "text": [
            "5\n",
            "2\n"
          ]
        }
      ]
    },
    {
      "cell_type": "markdown",
      "source": [
        "##String"
      ],
      "metadata": {
        "id": "I4gPnNgE9qGC"
      }
    },
    {
      "cell_type": "code",
      "source": [
        "String = 'Aswan Ur Rehman'\n",
        "print(String)"
      ],
      "metadata": {
        "colab": {
          "base_uri": "https://localhost:8080/"
        },
        "id": "0XYIJM0M9u2z",
        "outputId": "a5e940cb-90d0-475c-b642-206059ee0865"
      },
      "execution_count": null,
      "outputs": [
        {
          "output_type": "stream",
          "name": "stdout",
          "text": [
            "Aswan Ur Rehman\n"
          ]
        }
      ]
    },
    {
      "cell_type": "code",
      "source": [
        "String1 = 'Doesn\\'t, they Said.'\n",
        "String2 = \"Doesn't, they said.\"\n",
        "print(String1)\n",
        "print(String2)"
      ],
      "metadata": {
        "colab": {
          "base_uri": "https://localhost:8080/"
        },
        "id": "NpFQLVr-Ap6i",
        "outputId": "43f41aa6-a8c4-4179-d561-940c339924cc"
      },
      "execution_count": null,
      "outputs": [
        {
          "output_type": "stream",
          "name": "stdout",
          "text": [
            "Doesn't, they Said.\n",
            "Doesn't, they said.\n"
          ]
        }
      ]
    },
    {
      "cell_type": "code",
      "source": [
        "String3 = 'First Line.\\nSecond Line.'\n",
        "print(String3)"
      ],
      "metadata": {
        "colab": {
          "base_uri": "https://localhost:8080/"
        },
        "id": "P15Yxb5ECrcF",
        "outputId": "98e397d4-de6a-4390-f13f-c07da2cbe46d"
      },
      "execution_count": null,
      "outputs": [
        {
          "output_type": "stream",
          "name": "stdout",
          "text": [
            "First Line.\n",
            "Second Line.\n"
          ]
        }
      ]
    },
    {
      "cell_type": "code",
      "source": [
        "String4 = 'c:\\Some\\name'\n",
        "String5 = r'c:\\Some\\name'\n",
        "print(String4)\n",
        "print(String5)"
      ],
      "metadata": {
        "colab": {
          "base_uri": "https://localhost:8080/"
        },
        "id": "Yej_xQLTExaI",
        "outputId": "72332d0d-632a-41b5-8382-8339a4c38689"
      },
      "execution_count": null,
      "outputs": [
        {
          "output_type": "stream",
          "name": "stdout",
          "text": [
            "c:\\Some\n",
            "ame\n",
            "c:\\Some\\name\n"
          ]
        }
      ]
    },
    {
      "cell_type": "code",
      "source": [
        "String6 = 3*'un'+3*'ium'\n",
        "print(String6)"
      ],
      "metadata": {
        "colab": {
          "base_uri": "https://localhost:8080/"
        },
        "id": "1kU0i54rGRdo",
        "outputId": "e7881101-d7ad-4a67-9fbb-be728cba6b01"
      },
      "execution_count": null,
      "outputs": [
        {
          "output_type": "stream",
          "name": "stdout",
          "text": [
            "unununiumiumium\n"
          ]
        }
      ]
    },
    {
      "cell_type": "code",
      "source": [
        "Prifix = 'Py'\n",
        "String7 = Prifix + 'thon'\n",
        "print(String7)\n",
        "print(String7[2:5])\n",
        "len(String7)\n",
        "print(String7[2:5:2])"
      ],
      "metadata": {
        "colab": {
          "base_uri": "https://localhost:8080/"
        },
        "id": "PlfSyHuiKAjT",
        "outputId": "f6905c02-826b-4e36-e0ea-ae3181c51cb0"
      },
      "execution_count": null,
      "outputs": [
        {
          "output_type": "stream",
          "name": "stdout",
          "text": [
            "Python\n",
            "tho\n",
            "to\n"
          ]
        }
      ]
    },
    {
      "cell_type": "markdown",
      "source": [
        "##Lists"
      ],
      "metadata": {
        "id": "CN_4CSFJXKWf"
      }
    },
    {
      "cell_type": "code",
      "source": [
        "Squares = [1, 4, 9, 16, 25]\n",
        "Squares.append(36)\n",
        "Squares.append(7**2)\n",
        "print(Squares)"
      ],
      "metadata": {
        "colab": {
          "base_uri": "https://localhost:8080/"
        },
        "id": "8iXYnlAjXHIY",
        "outputId": "593cce9f-959e-417c-a410-3f720f974398"
      },
      "execution_count": null,
      "outputs": [
        {
          "output_type": "stream",
          "name": "stdout",
          "text": [
            "[1, 4, 9, 16, 25, 36, 49]\n"
          ]
        }
      ]
    },
    {
      "cell_type": "code",
      "source": [
        "Squares1 = [1,4,9,16,25,36,49]\n",
        "Squares1[2:5] = [64,81,100]\n",
        "print(Squares1)"
      ],
      "metadata": {
        "colab": {
          "base_uri": "https://localhost:8080/"
        },
        "id": "vw2iOZAra5o9",
        "outputId": "22382df3-e84d-41b8-aba5-53aebfd077e5"
      },
      "execution_count": null,
      "outputs": [
        {
          "output_type": "stream",
          "name": "stdout",
          "text": [
            "[1, 4, 64, 81, 100, 36, 49]\n"
          ]
        }
      ]
    },
    {
      "cell_type": "code",
      "source": [
        "A = ['a','b','c']\n",
        "B = [1,2,3]\n",
        "C = [A,B]\n",
        "D = [A+B]\n",
        "print(C)\n",
        "print(D)\n",
        "print(C[0])\n",
        "print(C[0][1])"
      ],
      "metadata": {
        "colab": {
          "base_uri": "https://localhost:8080/"
        },
        "id": "3mCku8ztcOVW",
        "outputId": "b7a4665a-ea17-4fed-db15-fa48d181d65e"
      },
      "execution_count": null,
      "outputs": [
        {
          "output_type": "stream",
          "name": "stdout",
          "text": [
            "[['a', 'b', 'c'], [1, 2, 3]]\n",
            "[['a', 'b', 'c', 1, 2, 3]]\n",
            "['a', 'b', 'c']\n",
            "b\n"
          ]
        }
      ]
    },
    {
      "cell_type": "markdown",
      "source": [
        "# Condition"
      ],
      "metadata": {
        "id": "BWZ20zvA1Swi"
      }
    },
    {
      "cell_type": "markdown",
      "source": [
        "If Statement"
      ],
      "metadata": {
        "id": "by4k8MjzihVZ"
      }
    },
    {
      "cell_type": "code",
      "source": [
        "Aswan = 'Urrehman'\n",
        "if 'rehman' in Aswan:\n",
        "  print('Aswanurrehman')\n",
        "print(Aswan.upper())\n",
        "print(Aswan.lower())"
      ],
      "metadata": {
        "colab": {
          "base_uri": "https://localhost:8080/"
        },
        "id": "LfpWYRCKEvPL",
        "outputId": "ed576468-567c-4d90-fff7-89bbd84c52da"
      },
      "execution_count": null,
      "outputs": [
        {
          "output_type": "stream",
          "name": "stdout",
          "text": [
            "Aswanurrehman\n",
            "URREHMAN\n",
            "urrehman\n"
          ]
        }
      ]
    },
    {
      "cell_type": "code",
      "source": [
        "Marks = 40\n",
        "if Marks>90:\n",
        "  print('A Grade')\n",
        "elif Marks>80:\n",
        "    print('B Grade')\n",
        "elif Marks>60:\n",
        "      print('C Grade')\n",
        "elif Marks>=40:\n",
        "        print('D Grade')\n",
        "else:\n",
        "          print('F Grade')"
      ],
      "metadata": {
        "id": "toweEweS5DaC",
        "colab": {
          "base_uri": "https://localhost:8080/"
        },
        "outputId": "5d73413c-8b69-4453-dd9b-a42d9d5e5f3c"
      },
      "execution_count": null,
      "outputs": [
        {
          "output_type": "stream",
          "name": "stdout",
          "text": [
            "D Grade\n"
          ]
        }
      ]
    },
    {
      "cell_type": "code",
      "source": [
        "Age = 25\n",
        "if Age>30:\n",
        "  print('Married')\n",
        "elif Age<10:\n",
        "     print('Unmarried') \n",
        "else: \n",
        "       print('UK')"
      ],
      "metadata": {
        "colab": {
          "base_uri": "https://localhost:8080/"
        },
        "id": "YtOwBsyE3zIb",
        "outputId": "7aaca6d6-0954-4bf7-dcdd-1b3c2d519082"
      },
      "execution_count": null,
      "outputs": [
        {
          "output_type": "stream",
          "name": "stdout",
          "text": [
            "UK\n"
          ]
        }
      ]
    },
    {
      "cell_type": "markdown",
      "source": [
        "For Loop"
      ],
      "metadata": {
        "id": "lDuGny_hGq-e"
      }
    },
    {
      "cell_type": "code",
      "source": [
        "Loop = 'forloop'\n",
        "for ch in Loop:\n",
        "  print(ch)"
      ],
      "metadata": {
        "colab": {
          "base_uri": "https://localhost:8080/"
        },
        "id": "j6iYptmtGxH7",
        "outputId": "e5acfc14-07cd-4e5e-b1c7-da08f6446661"
      },
      "execution_count": null,
      "outputs": [
        {
          "output_type": "stream",
          "name": "stdout",
          "text": [
            "f\n",
            "o\n",
            "r\n",
            "l\n",
            "o\n",
            "o\n",
            "p\n"
          ]
        }
      ]
    },
    {
      "cell_type": "code",
      "source": [
        "Loop1 = ['cat','window','Long']\n",
        "for w in Loop1:\n",
        "  print(w,len(w))"
      ],
      "metadata": {
        "colab": {
          "base_uri": "https://localhost:8080/"
        },
        "id": "6OBZhBhKI37j",
        "outputId": "bdaf87fc-0b70-4f1f-ace1-a634e2c05679"
      },
      "execution_count": null,
      "outputs": [
        {
          "output_type": "stream",
          "name": "stdout",
          "text": [
            "cat 3\n",
            "window 6\n",
            "Long 4\n"
          ]
        }
      ]
    },
    {
      "cell_type": "markdown",
      "source": [
        "Range"
      ],
      "metadata": {
        "id": "v_qYv-2IL1nu"
      }
    },
    {
      "cell_type": "code",
      "source": [
        "for i in range(5):\n",
        "  print(i)\n",
        "print(sum(range(5)))"
      ],
      "metadata": {
        "colab": {
          "base_uri": "https://localhost:8080/"
        },
        "id": "imEBMNbuL4BA",
        "outputId": "dc255a6a-cab5-4a2d-b0ec-e0dafde1fe92"
      },
      "execution_count": null,
      "outputs": [
        {
          "output_type": "stream",
          "name": "stdout",
          "text": [
            "0\n",
            "1\n",
            "2\n",
            "3\n",
            "4\n",
            "10\n"
          ]
        }
      ]
    },
    {
      "cell_type": "code",
      "source": [
        "list(range(5,10))"
      ],
      "metadata": {
        "colab": {
          "base_uri": "https://localhost:8080/"
        },
        "id": "VV-4-1r_OQoW",
        "outputId": "7cb125b5-54ff-4afc-d7de-f6eec1dae185"
      },
      "execution_count": null,
      "outputs": [
        {
          "output_type": "execute_result",
          "data": {
            "text/plain": [
              "[5, 6, 7, 8, 9]"
            ]
          },
          "metadata": {},
          "execution_count": 36
        }
      ]
    },
    {
      "cell_type": "code",
      "source": [
        "list(range(0,10,3))"
      ],
      "metadata": {
        "colab": {
          "base_uri": "https://localhost:8080/"
        },
        "id": "rG_YBD1WOyW-",
        "outputId": "0d643ad5-06f3-4613-d89a-4f0a479bcd9d"
      },
      "execution_count": null,
      "outputs": [
        {
          "output_type": "execute_result",
          "data": {
            "text/plain": [
              "[0, 3, 6, 9]"
            ]
          },
          "metadata": {},
          "execution_count": 37
        }
      ]
    },
    {
      "cell_type": "markdown",
      "source": [
        "Break,Continue Statement With else Clouse"
      ],
      "metadata": {
        "id": "9IK6vWElQGSA"
      }
    },
    {
      "cell_type": "code",
      "source": [
        "for z in range(5):\n",
        "  if z==3:\n",
        "    break\n",
        "  print(z*z)"
      ],
      "metadata": {
        "id": "QmPMEV1QQW0H",
        "colab": {
          "base_uri": "https://localhost:8080/"
        },
        "outputId": "02d28a3f-c9ae-47d3-8376-638182badf3d"
      },
      "execution_count": null,
      "outputs": [
        {
          "output_type": "stream",
          "name": "stdout",
          "text": [
            "0\n",
            "1\n",
            "4\n"
          ]
        }
      ]
    },
    {
      "cell_type": "code",
      "source": [
        "for n in range(2, 10):\n",
        "    for x in range(2, n):\n",
        "        if n % x == 0:\n",
        "            print(n,'equals',x,'*',n//x)\n",
        "            break\n",
        "    else:\n",
        "      print(n,'is a prime number')    "
      ],
      "metadata": {
        "colab": {
          "base_uri": "https://localhost:8080/"
        },
        "id": "JomwjfeQG5H3",
        "outputId": "76983ec4-8667-4dde-aa14-259984e3e472"
      },
      "execution_count": null,
      "outputs": [
        {
          "output_type": "stream",
          "name": "stdout",
          "text": [
            "2 is a prime number\n",
            "3 is a prime number\n",
            "4 equals 2 * 2\n",
            "5 is a prime number\n",
            "6 equals 2 * 3\n",
            "7 is a prime number\n",
            "8 equals 2 * 4\n",
            "9 equals 3 * 3\n"
          ]
        }
      ]
    },
    {
      "cell_type": "code",
      "source": [
        "for num in range(2, 10):\n",
        "    if num % 2 == 0:\n",
        "        print('Found an even number', num)\n",
        "        continue\n",
        "    print('Found an odd number', num)  "
      ],
      "metadata": {
        "colab": {
          "base_uri": "https://localhost:8080/"
        },
        "id": "VIYC5KLcI8N4",
        "outputId": "df960077-7ee3-4f52-d2e0-c7a3599b9eb3"
      },
      "execution_count": null,
      "outputs": [
        {
          "output_type": "stream",
          "name": "stdout",
          "text": [
            "Found an even number 2\n",
            "Found an odd number 3\n",
            "Found an even number 4\n",
            "Found an odd number 5\n",
            "Found an even number 6\n",
            "Found an odd number 7\n",
            "Found an even number 8\n",
            "Found an odd number 9\n"
          ]
        }
      ]
    },
    {
      "cell_type": "markdown",
      "source": [
        "##List\n",
        "1. Could be heterogenious\n",
        "2. Mutable\n",
        "3. Scriptable\n",
        "4. Ordered"
      ],
      "metadata": {
        "id": "NDLidV27aYAY"
      }
    },
    {
      "cell_type": "code",
      "source": [
        "lst = [1,2,3,'Pepcoding']\n",
        "lst.append('8')\n",
        "lst[0] = 55\n",
        "print(lst)\n",
        "lst2 = [1,2,3]\n",
        "lst.append(lst2)\n",
        "print(lst)\n",
        "print(lst[-1])\n",
        "print(lst[0:3])\n",
        "lst.insert(1,'DEF')\n",
        "print(lst)\n",
        "print(lst.pop())\n",
        "print(lst)\n",
        "for i in lst:\n",
        "  print(i)"
      ],
      "metadata": {
        "colab": {
          "base_uri": "https://localhost:8080/"
        },
        "id": "7RzdUiOwa9a4",
        "outputId": "2c00a5eb-4c32-4f26-ec6b-7c94b74ce34c"
      },
      "execution_count": null,
      "outputs": [
        {
          "output_type": "stream",
          "name": "stdout",
          "text": [
            "[55, 2, 3, 'Pepcoding', '8']\n",
            "[55, 2, 3, 'Pepcoding', '8', [1, 2, 3]]\n",
            "[1, 2, 3]\n",
            "[55, 2, 3]\n",
            "[55, 'DEF', 2, 3, 'Pepcoding', '8', [1, 2, 3]]\n",
            "[1, 2, 3]\n",
            "[55, 'DEF', 2, 3, 'Pepcoding', '8']\n",
            "55\n",
            "DEF\n",
            "2\n",
            "3\n",
            "Pepcoding\n",
            "8\n"
          ]
        }
      ]
    },
    {
      "cell_type": "markdown",
      "source": [
        "##Tuple"
      ],
      "metadata": {
        "id": "8XSvDGAr57fY"
      }
    },
    {
      "cell_type": "code",
      "source": [
        "tup = (1,2,3,'Hello')\n",
        "print(tup[0])"
      ],
      "metadata": {
        "colab": {
          "base_uri": "https://localhost:8080/"
        },
        "id": "apfsjGej6AQi",
        "outputId": "9c20f6f3-f265-4dd5-ed12-e2a2dbc62eed"
      },
      "execution_count": null,
      "outputs": [
        {
          "output_type": "stream",
          "name": "stdout",
          "text": [
            "1\n"
          ]
        }
      ]
    },
    {
      "cell_type": "code",
      "source": [
        "tup[0] = 55"
      ],
      "metadata": {
        "colab": {
          "base_uri": "https://localhost:8080/",
          "height": 165
        },
        "id": "c18ZURe16Pta",
        "outputId": "bd9186da-5fdf-4f09-9b4a-c0622a2b0787"
      },
      "execution_count": null,
      "outputs": [
        {
          "output_type": "error",
          "ename": "TypeError",
          "evalue": "ignored",
          "traceback": [
            "\u001b[0;31m---------------------------------------------------------------------------\u001b[0m",
            "\u001b[0;31mTypeError\u001b[0m                                 Traceback (most recent call last)",
            "\u001b[0;32m<ipython-input-120-a79ca4dc1046>\u001b[0m in \u001b[0;36m<module>\u001b[0;34m()\u001b[0m\n\u001b[0;32m----> 1\u001b[0;31m \u001b[0mtup\u001b[0m\u001b[0;34m[\u001b[0m\u001b[0;36m0\u001b[0m\u001b[0;34m]\u001b[0m \u001b[0;34m=\u001b[0m \u001b[0;36m55\u001b[0m\u001b[0;34m\u001b[0m\u001b[0;34m\u001b[0m\u001b[0m\n\u001b[0m",
            "\u001b[0;31mTypeError\u001b[0m: 'tuple' object does not support item assignment"
          ]
        }
      ]
    },
    {
      "cell_type": "code",
      "source": [
        "for i in tup:\n",
        "  print(i)"
      ],
      "metadata": {
        "colab": {
          "base_uri": "https://localhost:8080/"
        },
        "id": "ozUWCweF6Wrl",
        "outputId": "7e7aa58c-7aa2-4bfe-8ecf-e77d45b2b147"
      },
      "execution_count": null,
      "outputs": [
        {
          "output_type": "stream",
          "name": "stdout",
          "text": [
            "1\n",
            "2\n",
            "3\n",
            "Hello\n"
          ]
        }
      ]
    },
    {
      "cell_type": "markdown",
      "source": [
        "##Set{}"
      ],
      "metadata": {
        "id": "uMKCxH9c4jJu"
      }
    },
    {
      "cell_type": "code",
      "source": [
        "st = {'Apple','Mango','Banana','Apple'}\n",
        "print(st)\n",
        "st.add('Orange')\n",
        "print(st)\n",
        "for i in st:\n",
        "  print(i)"
      ],
      "metadata": {
        "colab": {
          "base_uri": "https://localhost:8080/"
        },
        "id": "ZPz_qicA3LMI",
        "outputId": "87ea7d3b-c150-4c40-90a3-facc7f49e496"
      },
      "execution_count": null,
      "outputs": [
        {
          "output_type": "stream",
          "name": "stdout",
          "text": [
            "{'Mango', 'Apple', 'Banana'}\n",
            "{'Orange', 'Mango', 'Apple', 'Banana'}\n",
            "Orange\n",
            "Mango\n",
            "Apple\n",
            "Banana\n"
          ]
        }
      ]
    },
    {
      "cell_type": "code",
      "source": [
        "st.pop()"
      ],
      "metadata": {
        "colab": {
          "base_uri": "https://localhost:8080/",
          "height": 35
        },
        "id": "2tGvO3Ub4I7M",
        "outputId": "4c693131-e421-44e4-d061-5b28509122ac"
      },
      "execution_count": null,
      "outputs": [
        {
          "output_type": "execute_result",
          "data": {
            "application/vnd.google.colaboratory.intrinsic+json": {
              "type": "string"
            },
            "text/plain": [
              "'Orange'"
            ]
          },
          "metadata": {},
          "execution_count": 80
        }
      ]
    },
    {
      "cell_type": "code",
      "source": [
        "set1 = {1,2,3,4,5}\n",
        "set2 = {2,5,8,9}\n",
        "print(set1.union(set2))\n",
        "print(set1.intersection(set2))"
      ],
      "metadata": {
        "colab": {
          "base_uri": "https://localhost:8080/"
        },
        "id": "aJ5aUTTA4tHe",
        "outputId": "c01890a0-41d3-414a-8448-aa778607ad83"
      },
      "execution_count": null,
      "outputs": [
        {
          "output_type": "stream",
          "name": "stdout",
          "text": [
            "{1, 2, 3, 4, 5, 8, 9}\n",
            "{2, 5}\n"
          ]
        }
      ]
    },
    {
      "cell_type": "markdown",
      "source": [
        "##Dictionary"
      ],
      "metadata": {
        "id": "q1E3goKh6zec"
      }
    },
    {
      "cell_type": "code",
      "source": [
        "dict1 = {'Name' : 'Aswan',\n",
        "         'Team' : 'HotDev'}\n",
        "print(dict1)\n",
        "dict2 = {'A':1,\n",
        "         'C':'Aswan',\n",
        "         'B':[1,2,3],\n",
        "         'A':3\n",
        "}\n",
        "print(dict2)\n",
        "print(dict2['A'])\n",
        "dict2['C']='Aman'\n",
        "print(dict2)\n",
        "print(dict2['B'][1])"
      ],
      "metadata": {
        "colab": {
          "base_uri": "https://localhost:8080/"
        },
        "id": "7icOKlh39Hz6",
        "outputId": "4801c0fd-08c5-4893-bd87-8821a668a2e5"
      },
      "execution_count": null,
      "outputs": [
        {
          "output_type": "stream",
          "name": "stdout",
          "text": [
            "{'Name': 'Aswan', 'Team': 'HotDev'}\n",
            "{'A': 3, 'C': 'Aswan', 'B': [1, 2, 3]}\n",
            "3\n",
            "{'A': 3, 'C': 'Aman', 'B': [1, 2, 3]}\n",
            "2\n"
          ]
        }
      ]
    },
    {
      "cell_type": "code",
      "source": [
        "dict2.keys()"
      ],
      "metadata": {
        "colab": {
          "base_uri": "https://localhost:8080/"
        },
        "id": "41JphKZNApQ8",
        "outputId": "d131617a-be04-4898-bd7f-91f6ca34ce5d"
      },
      "execution_count": null,
      "outputs": [
        {
          "output_type": "execute_result",
          "data": {
            "text/plain": [
              "dict_keys(['A', 'C', 'B'])"
            ]
          },
          "metadata": {},
          "execution_count": 103
        }
      ]
    },
    {
      "cell_type": "code",
      "source": [
        "dict2.values()"
      ],
      "metadata": {
        "colab": {
          "base_uri": "https://localhost:8080/"
        },
        "id": "MIsIsU0_Awyr",
        "outputId": "b01b8cd3-c288-4903-998c-88a5bcfcf8ea"
      },
      "execution_count": null,
      "outputs": [
        {
          "output_type": "execute_result",
          "data": {
            "text/plain": [
              "dict_values([3, 'Aman', [1, 2, 3]])"
            ]
          },
          "metadata": {},
          "execution_count": 104
        }
      ]
    },
    {
      "cell_type": "code",
      "source": [
        "for i in dict2.values():\n",
        "  print(i)"
      ],
      "metadata": {
        "colab": {
          "base_uri": "https://localhost:8080/"
        },
        "id": "FZatbJL7A7eh",
        "outputId": "49d5d75d-d179-4975-c2fa-685d2525ee96"
      },
      "execution_count": null,
      "outputs": [
        {
          "output_type": "stream",
          "name": "stdout",
          "text": [
            "3\n",
            "Aman\n",
            "[1, 2, 3]\n"
          ]
        }
      ]
    },
    {
      "cell_type": "code",
      "source": [
        "for i,j in dict2.items():\n",
        "  print(i,j)"
      ],
      "metadata": {
        "colab": {
          "base_uri": "https://localhost:8080/"
        },
        "id": "YHp5CQTuBONI",
        "outputId": "78bc823a-41da-4b64-8ec7-9aa45bb6db2b"
      },
      "execution_count": null,
      "outputs": [
        {
          "output_type": "stream",
          "name": "stdout",
          "text": [
            "A 3\n",
            "C Aman\n",
            "B [1, 2, 3]\n"
          ]
        }
      ]
    },
    {
      "cell_type": "code",
      "source": [
        "for i,j in zip(dict2.values(),dict2.keys()):\n",
        "  print(i,j)"
      ],
      "metadata": {
        "colab": {
          "base_uri": "https://localhost:8080/"
        },
        "id": "pLvn4N5XBrZR",
        "outputId": "875b8d0c-1a51-466d-d006-2207c5dea33e"
      },
      "execution_count": null,
      "outputs": [
        {
          "output_type": "stream",
          "name": "stdout",
          "text": [
            "3 A\n",
            "Aman C\n",
            "[1, 2, 3] B\n"
          ]
        }
      ]
    },
    {
      "cell_type": "markdown",
      "source": [
        "Q-1 , Q-2"
      ],
      "metadata": {
        "id": "ruAMQxeiFSjg"
      }
    },
    {
      "cell_type": "code",
      "source": [
        "dict4={val:val*val  for val in range(1,6)}\n",
        "print(dict4)\n",
        "sum1 = sum(dict4.values())\n",
        "print(sum1)"
      ],
      "metadata": {
        "id": "1Zw5Pr-r5Xsw",
        "colab": {
          "base_uri": "https://localhost:8080/"
        },
        "outputId": "2793aaf8-eaf5-47d5-cc06-f82749797475"
      },
      "execution_count": null,
      "outputs": [
        {
          "output_type": "stream",
          "name": "stdout",
          "text": [
            "{1: 1, 2: 4, 3: 9, 4: 16, 5: 25}\n",
            "55\n"
          ]
        }
      ]
    },
    {
      "cell_type": "markdown",
      "source": [
        "\n",
        "\n",
        "1. first try will run.\n",
        "2. if try becomes false then except will run.\n",
        "3. if except becomes false or try becomes true else will run.\n",
        "4. finall always runs.\n",
        "\n"
      ],
      "metadata": {
        "id": "TsuXxeVbICWn"
      }
    },
    {
      "cell_type": "code",
      "source": [
        "try:\n",
        "  a=5\n",
        "  b=6\n",
        "  c=a/b\n",
        "except:\n",
        "    print('Zero Divide')\n",
        "else:\n",
        "  print('Me Bhi Hun')\n",
        "finally:\n",
        "  print('Me Bhi Aa Gaya')"
      ],
      "metadata": {
        "id": "Rwo9N9klAvSS",
        "colab": {
          "base_uri": "https://localhost:8080/"
        },
        "outputId": "d6a39252-2fd0-46f9-f35a-89dd020a9e67"
      },
      "execution_count": null,
      "outputs": [
        {
          "output_type": "stream",
          "name": "stdout",
          "text": [
            "Me Bhi Hun\n",
            "Me Bhi Aa Gaya\n"
          ]
        }
      ]
    },
    {
      "cell_type": "code",
      "source": [
        "class Phone:\n",
        "  a=10\n",
        "  b=5\n",
        "  def initilization(Aswan,X):\n",
        "   Aswan.a=X\n",
        "   Aswan.d=X\n",
        "  def video(Aswan):\n",
        "    print(\"the phone has v call feature\")\n",
        "    print(Aswan.a)"
      ],
      "metadata": {
        "id": "XRv_3b3dJMx3"
      },
      "execution_count": null,
      "outputs": []
    },
    {
      "cell_type": "code",
      "source": [
        "p1=Phone()"
      ],
      "metadata": {
        "id": "M2w2r_XkUmNG"
      },
      "execution_count": null,
      "outputs": []
    },
    {
      "cell_type": "code",
      "source": [
        "p1.initilization(20)"
      ],
      "metadata": {
        "id": "cioYO8qnUneV"
      },
      "execution_count": null,
      "outputs": []
    },
    {
      "cell_type": "code",
      "source": [
        "p1.d"
      ],
      "metadata": {
        "colab": {
          "base_uri": "https://localhost:8080/"
        },
        "id": "-GC8qMKMUs7k",
        "outputId": "b7301d4d-406f-4dbe-b39c-959c8d8022f6"
      },
      "execution_count": null,
      "outputs": [
        {
          "output_type": "execute_result",
          "data": {
            "text/plain": [
              "20"
            ]
          },
          "metadata": {},
          "execution_count": 11
        }
      ]
    },
    {
      "cell_type": "code",
      "source": [
        "p1.video()"
      ],
      "metadata": {
        "colab": {
          "base_uri": "https://localhost:8080/"
        },
        "id": "D8y9UFysUu1r",
        "outputId": "0cbb4469-1c4b-4f61-8e99-4b125c1cd8d9"
      },
      "execution_count": null,
      "outputs": [
        {
          "output_type": "stream",
          "name": "stdout",
          "text": [
            "the phone has v call feature\n",
            "20\n"
          ]
        }
      ]
    },
    {
      "cell_type": "code",
      "source": [
        "class Phone2:\n",
        "  def __init__(self,brand,color):\n",
        "   self.brand=brand\n",
        "   self.color=color\n",
        "  def printing(self):\n",
        "     print(\"i have \"+self.brand+\" in color \"+self.color)\n"
      ],
      "metadata": {
        "id": "nwQ-MC_xU0UO"
      },
      "execution_count": null,
      "outputs": []
    },
    {
      "cell_type": "code",
      "source": [
        "p2=Phone2(\"Iphone\",\"Black\")"
      ],
      "metadata": {
        "id": "yp9DI36RcOcA"
      },
      "execution_count": null,
      "outputs": []
    },
    {
      "cell_type": "code",
      "source": [
        "p2.printing()"
      ],
      "metadata": {
        "colab": {
          "base_uri": "https://localhost:8080/"
        },
        "id": "xjD3CtSBcTQS",
        "outputId": "d8758119-326b-4096-eaf0-b78f20203ba5"
      },
      "execution_count": null,
      "outputs": [
        {
          "output_type": "stream",
          "name": "stdout",
          "text": [
            "i have Iphone in color Black\n"
          ]
        }
      ]
    },
    {
      "cell_type": "markdown",
      "source": [
        "##inheritance"
      ],
      "metadata": {
        "id": "d0yxGfNhakv7"
      }
    },
    {
      "cell_type": "code",
      "source": [
        "class Phone2:\n",
        "  def __init__(self,brand,color):\n",
        "    self.brand=brand\n",
        "    self.color=color\n",
        "    def printing(self):\n",
        "      print(\"i have \"+self.brand+\" in color \"+self.color)\n",
        "      def xyz(Aswan):\n",
        "        print(\"abc\")"
      ],
      "metadata": {
        "id": "2Xf5T2QLc23p"
      },
      "execution_count": null,
      "outputs": []
    },
    {
      "cell_type": "code",
      "source": [
        "class Phone3(Phone2):\n",
        "  def Printing2(self):\n",
        "    print(\"m hu child class\")"
      ],
      "metadata": {
        "id": "VMHE8jfGcCt8"
      },
      "execution_count": null,
      "outputs": []
    },
    {
      "cell_type": "code",
      "source": [
        "p3=Phone3(\"Samsung\",\"white\")"
      ],
      "metadata": {
        "id": "5LQjuf7kcoyo"
      },
      "execution_count": null,
      "outputs": []
    },
    {
      "cell_type": "code",
      "source": [
        "\n",
        "p3.Printing2()"
      ],
      "metadata": {
        "colab": {
          "base_uri": "https://localhost:8080/"
        },
        "id": "SIEyISsnc0jI",
        "outputId": "c2e0dafa-8e64-4828-b8fa-8f16f2431b51"
      },
      "execution_count": null,
      "outputs": [
        {
          "output_type": "stream",
          "name": "stdout",
          "text": [
            "m hu child class\n"
          ]
        }
      ]
    },
    {
      "cell_type": "code",
      "source": [
        ""
      ],
      "metadata": {
        "id": "Z1c4YSvidEf9"
      },
      "execution_count": null,
      "outputs": []
    }
  ]
}